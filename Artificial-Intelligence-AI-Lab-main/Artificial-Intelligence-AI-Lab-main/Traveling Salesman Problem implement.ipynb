{
 "cells": [
  {
   "cell_type": "code",
   "execution_count": 1,
   "id": "8e49ad18",
   "metadata": {},
   "outputs": [
    {
     "name": "stderr",
     "output_type": "stream",
     "text": [
      "C:\\Users\\MD.NAIM HOSSAIN\\AppData\\Local\\Programs\\Python\\Python311\\Lib\\site-packages\\tsp\\core.py:18: UserWarning: Missing netCDF4 library. Some functionality will be limited.\n",
      "  warnings.warn(\"Missing netCDF4 library. Some functionality will be limited.\")\n",
      "C:\\Users\\MD.NAIM HOSSAIN\\AppData\\Local\\Programs\\Python\\Python311\\Lib\\site-packages\\tsp\\readers.py:10: UserWarning: Missing netCDF4 library. Some functionality will be limited.\n",
      "  warnings.warn(\"Missing netCDF4 library. Some functionality will be limited.\")\n"
     ]
    },
    {
     "ename": "AttributeError",
     "evalue": "module 'tsp' has no attribute 'tsp'",
     "output_type": "error",
     "traceback": [
      "\u001b[1;31m---------------------------------------------------------------------------\u001b[0m",
      "\u001b[1;31mAttributeError\u001b[0m                            Traceback (most recent call last)",
      "Cell \u001b[1;32mIn[1], line 9\u001b[0m\n\u001b[0;32m      6\u001b[0m r\u001b[38;5;241m=\u001b[39m\u001b[38;5;28mrange\u001b[39m(\u001b[38;5;28mlen\u001b[39m(matrix))\n\u001b[0;32m      8\u001b[0m shortestpath\u001b[38;5;241m=\u001b[39m{(i,j):matrix[i][j] \u001b[38;5;28;01mfor\u001b[39;00m i \u001b[38;5;129;01min\u001b[39;00m r \u001b[38;5;28;01mfor\u001b[39;00m j \u001b[38;5;129;01min\u001b[39;00m r}\n\u001b[1;32m----> 9\u001b[0m \u001b[38;5;28mprint\u001b[39m(\u001b[43mtsp\u001b[49m\u001b[38;5;241;43m.\u001b[39;49m\u001b[43mtsp\u001b[49m(r,shortestpath))\n",
      "\u001b[1;31mAttributeError\u001b[0m: module 'tsp' has no attribute 'tsp'"
     ]
    }
   ],
   "source": [
    "import tsp\n",
    "matrix=[[1,2,3,4],\n",
    "        [5,6,7,8],\n",
    "        [9,10,11,12],\n",
    "        [13,14,15,16]]\n",
    "r=range(len(matrix))\n",
    "\n",
    "shortestpath={(i,j):matrix[i][j] for i in r for j in r}\n",
    "print(tsp.tsp(r,shortestpath))"
   ]
  },
  {
   "cell_type": "code",
   "execution_count": null,
   "id": "2ee600d9",
   "metadata": {},
   "outputs": [],
   "source": []
  }
 ],
 "metadata": {
  "kernelspec": {
   "display_name": "Python 3 (ipykernel)",
   "language": "python",
   "name": "python3"
  },
  "language_info": {
   "codemirror_mode": {
    "name": "ipython",
    "version": 3
   },
   "file_extension": ".py",
   "mimetype": "text/x-python",
   "name": "python",
   "nbconvert_exporter": "python",
   "pygments_lexer": "ipython3",
   "version": "3.11.2"
  }
 },
 "nbformat": 4,
 "nbformat_minor": 5
}
