{
 "cells": [
  {
   "cell_type": "markdown",
   "id": "cfb8ad28",
   "metadata": {},
   "source": [
    "''''\n",
    "Feature: for trine to machine learning algorithm ,unique characterstics dataset called feature.\n",
    "Concept Learning: It is a learning task which is used to train up a machine to learn some concept by giving some pre defined example.\n",
    "specific hypothesis means null hypothesis (H0)\n",
    "at the last,we will get general hypothesis,\n",
    "jesob element contain kre general hypothesis,oigula element jer modde thaklbe setake yes(s) bla jabe,others no,:video link:https://www.youtube.com/watch?v=pSIshL1I7SU\n",
    "''''"
   ]
  },
  {
   "cell_type": "code",
   "execution_count": 11,
   "id": "368c0d9e",
   "metadata": {},
   "outputs": [],
   "source": [
    "import pandas as pd\n",
    "import numpy as np"
   ]
  },
  {
   "cell_type": "code",
   "execution_count": 12,
   "id": "bd3d41fd",
   "metadata": {},
   "outputs": [
    {
     "data": {
      "text/html": [
       "<div>\n",
       "<style scoped>\n",
       "    .dataframe tbody tr th:only-of-type {\n",
       "        vertical-align: middle;\n",
       "    }\n",
       "\n",
       "    .dataframe tbody tr th {\n",
       "        vertical-align: top;\n",
       "    }\n",
       "\n",
       "    .dataframe thead th {\n",
       "        text-align: right;\n",
       "    }\n",
       "</style>\n",
       "<table border=\"1\" class=\"dataframe\">\n",
       "  <thead>\n",
       "    <tr style=\"text-align: right;\">\n",
       "      <th></th>\n",
       "      <th>sky</th>\n",
       "      <th>air temp</th>\n",
       "      <th>humidity</th>\n",
       "      <th>wind</th>\n",
       "      <th>water</th>\n",
       "      <th>forecast</th>\n",
       "      <th>enjoy spot</th>\n",
       "    </tr>\n",
       "  </thead>\n",
       "  <tbody>\n",
       "    <tr>\n",
       "      <th>0</th>\n",
       "      <td>sunny</td>\n",
       "      <td>warm</td>\n",
       "      <td>normal</td>\n",
       "      <td>strong</td>\n",
       "      <td>warm</td>\n",
       "      <td>same</td>\n",
       "      <td>yes</td>\n",
       "    </tr>\n",
       "    <tr>\n",
       "      <th>1</th>\n",
       "      <td>sunny</td>\n",
       "      <td>warm</td>\n",
       "      <td>high</td>\n",
       "      <td>strong</td>\n",
       "      <td>warm</td>\n",
       "      <td>same</td>\n",
       "      <td>yes</td>\n",
       "    </tr>\n",
       "    <tr>\n",
       "      <th>2</th>\n",
       "      <td>rainy</td>\n",
       "      <td>cold</td>\n",
       "      <td>high</td>\n",
       "      <td>strong</td>\n",
       "      <td>warm</td>\n",
       "      <td>change</td>\n",
       "      <td>no</td>\n",
       "    </tr>\n",
       "    <tr>\n",
       "      <th>3</th>\n",
       "      <td>sunny</td>\n",
       "      <td>warm</td>\n",
       "      <td>high</td>\n",
       "      <td>strong</td>\n",
       "      <td>cool</td>\n",
       "      <td>change</td>\n",
       "      <td>yes</td>\n",
       "    </tr>\n",
       "  </tbody>\n",
       "</table>\n",
       "</div>"
      ],
      "text/plain": [
       "     sky air temp humidity    wind water forecast enjoy spot\n",
       "0  sunny     warm   normal  strong  warm     same        yes\n",
       "1  sunny     warm     high  strong  warm     same        yes\n",
       "2  rainy     cold     high  strong  warm   change         no\n",
       "3  sunny     warm     high  strong  cool   change        yes"
      ]
     },
     "execution_count": 12,
     "metadata": {},
     "output_type": "execute_result"
    }
   ],
   "source": [
    "df= pd.read_csv('S algorithm.csv')\n",
    "df"
   ]
  },
  {
   "cell_type": "code",
   "execution_count": 13,
   "id": "c8e11293",
   "metadata": {},
   "outputs": [
    {
     "data": {
      "text/plain": [
       "array([['sunny', 'warm', 'normal', 'strong', 'warm', 'same'],\n",
       "       ['sunny', 'warm', 'high', 'strong', 'warm', 'same'],\n",
       "       ['rainy', 'cold', 'high', 'strong', 'warm', 'change'],\n",
       "       ['sunny', 'warm', 'high', 'strong', 'cool', 'change']],\n",
       "      dtype=object)"
      ]
     },
     "execution_count": 13,
     "metadata": {},
     "output_type": "execute_result"
    }
   ],
   "source": [
    "x = np.array(df)[:,:-1] #ignore enjoy spot because it's depedent variable\n",
    "x"
   ]
  },
  {
   "cell_type": "code",
   "execution_count": 14,
   "id": "e578585f",
   "metadata": {},
   "outputs": [
    {
     "data": {
      "text/plain": [
       "array(['yes', 'yes', 'no', 'yes'], dtype=object)"
      ]
     },
     "execution_count": 14,
     "metadata": {},
     "output_type": "execute_result"
    }
   ],
   "source": [
    "y = np.array(df)[:,-1] #take only last column,it's dependent variable\n",
    "y"
   ]
  },
  {
   "cell_type": "code",
   "execution_count": 15,
   "id": "876bbcef",
   "metadata": {},
   "outputs": [],
   "source": [
    "def train(ind,dep):                     #ind=independent,dep=dependent\n",
    "    for i,val in enumerate(dep):         #i=index:0,1,2,3 /val=yes\n",
    "        if val =='yes':\n",
    "            specific= ind[i].copy()\n",
    "            break\n",
    "    for i, val in enumerate(ind):     #i=0(index),val=['sunny' 'warm' 'normal' 'strong' 'warm' 'same']\n",
    "        #print(i)\n",
    "        #print(val)\n",
    "        if dep[i]=='yes':\n",
    "            for j in range(len(specific)):\n",
    "                if val[j] !=specific[j]:\n",
    "                    specific[j]='?'\n",
    "                else:\n",
    "                    pass\n",
    "    return specific"
   ]
  },
  {
   "cell_type": "code",
   "execution_count": 16,
   "id": "cbfc267e",
   "metadata": {},
   "outputs": [
    {
     "name": "stdout",
     "output_type": "stream",
     "text": [
      "['sunny' 'warm' '?' 'strong' '?' '?']\n"
     ]
    }
   ],
   "source": [
    "print(train(x,y))"
   ]
  },
  {
   "cell_type": "code",
   "execution_count": 18,
   "id": "219c44a8",
   "metadata": {},
   "outputs": [
    {
     "data": {
      "text/plain": [
       "array(['sunny', 'warm', '?', 'strong', '?', '?'], dtype=object)"
      ]
     },
     "execution_count": 18,
     "metadata": {},
     "output_type": "execute_result"
    }
   ],
   "source": [
    "result=train(x,y)\n",
    "result"
   ]
  },
  {
   "cell_type": "code",
   "execution_count": 21,
   "id": "80adb526",
   "metadata": {},
   "outputs": [
    {
     "name": "stdout",
     "output_type": "stream",
     "text": [
      "Enter 6 word to check: ss warm ? strong ? ?\n"
     ]
    }
   ],
   "source": [
    "day=input(\"Enter 6 word to check: \")\n",
    "day=day.split()\n",
    "check=True"
   ]
  },
  {
   "cell_type": "code",
   "execution_count": 22,
   "id": "962a2ef8",
   "metadata": {},
   "outputs": [
    {
     "name": "stdout",
     "output_type": "stream",
     "text": [
      "Not Enjoy\n"
     ]
    }
   ],
   "source": [
    "for i in range(len(result)):\n",
    "    if result[i]=='?' or result[i]==day[i]:\n",
    "        check=True;\n",
    "    else:\n",
    "        check=False;\n",
    "        break;\n",
    "if check:\n",
    "    print(\"Enjoy spot\")\n",
    "else:\n",
    "    print(\"Not Enjoy\")"
   ]
  },
  {
   "cell_type": "code",
   "execution_count": null,
   "id": "81e90b90",
   "metadata": {},
   "outputs": [],
   "source": []
  }
 ],
 "metadata": {
  "kernelspec": {
   "display_name": "Python 3 (ipykernel)",
   "language": "python",
   "name": "python3"
  },
  "language_info": {
   "codemirror_mode": {
    "name": "ipython",
    "version": 3
   },
   "file_extension": ".py",
   "mimetype": "text/x-python",
   "name": "python",
   "nbconvert_exporter": "python",
   "pygments_lexer": "ipython3",
   "version": "3.11.2"
  }
 },
 "nbformat": 4,
 "nbformat_minor": 5
}
